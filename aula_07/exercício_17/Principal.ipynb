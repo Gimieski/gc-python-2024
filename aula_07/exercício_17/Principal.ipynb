{
 "cells": [
  {
   "cell_type": "code",
   "execution_count": 2,
   "id": "c17eaa12-345a-4788-a541-20a652a6e1ed",
   "metadata": {},
   "outputs": [
    {
     "name": "stdout",
     "output_type": "stream",
     "text": [
      "Media Grupo A 53.5\n",
      "Mediana Grupo A 51.31\n",
      "Desvio Grupo A 29.704162548829295\n"
     ]
    }
   ],
   "source": [
    "import pandas as pd\n",
    "\n",
    "df_notas = pd.read_csv('../17_notas_grupos.csv')\n",
    "\n",
    "df_groupA_media = df_notas['Grupo_A'].mean()\n",
    "\n",
    "df_groupA_mediana = df_notas['Grupo_A'].median()\n",
    "\n",
    "df_groupA_desvio = df_notas['Grupo_A'].std()\n",
    "\n",
    "print(f\"Media Grupo A {df_groupA_mediana}\")\n",
    "print(f\"Mediana Grupo A {df_groupA_media}\")\n",
    "print(f\"Desvio Grupo A {df_groupA_desvio}\")"
   ]
  },
  {
   "cell_type": "code",
   "execution_count": 3,
   "id": "3e698cf2-d1c2-4fef-b865-69e1971f2ddc",
   "metadata": {},
   "outputs": [
    {
     "name": "stdout",
     "output_type": "stream",
     "text": [
      "Media Grupo B 43.5\n",
      "Mediana Grupo B 48.05\n",
      "Desvio Grupo B 30.74278267933283\n"
     ]
    }
   ],
   "source": [
    "df_groupB_media = df_notas['Grupo_B'].mean()\n",
    "df_groupB_mediana = df_notas['Grupo_B'].median()\n",
    "df_groupB_desvio = df_notas['Grupo_B'].std()\n",
    "\n",
    "\n",
    "print(f\"Media Grupo B {df_groupB_mediana}\")\n",
    "print(f\"Mediana Grupo B {df_groupB_media}\")\n",
    "print(f\"Desvio Grupo B {df_groupB_desvio}\")\n"
   ]
  }
 ],
 "metadata": {
  "kernelspec": {
   "display_name": "Python 3 (ipykernel)",
   "language": "python",
   "name": "python3"
  },
  "language_info": {
   "codemirror_mode": {
    "name": "ipython",
    "version": 3
   },
   "file_extension": ".py",
   "mimetype": "text/x-python",
   "name": "python",
   "nbconvert_exporter": "python",
   "pygments_lexer": "ipython3",
   "version": "3.12.4"
  }
 },
 "nbformat": 4,
 "nbformat_minor": 5
}
