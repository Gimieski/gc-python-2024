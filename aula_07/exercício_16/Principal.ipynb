{
 "cells": [
  {
   "cell_type": "code",
   "execution_count": 13,
   "id": "05c26c69-dee5-45d8-b207-4f2df938417b",
   "metadata": {},
   "outputs": [],
   "source": [
    "import pandas as pd\n",
    "\n",
    "df_notas=pd.read_csv('../16_dataset_notas_alunos.csv')\n",
    "\n",
    "df_matematica_media = df_notas['Matemática'].mean()\n",
    "df_ciencias_media = df_notas['Ciências'].mean()\n",
    "\n",
    "df_matematica_mediana = df_notas['Matemática'].median()\n",
    "df_ciencias_mediana = df_notas['Ciências'].median()\n",
    "\n",
    "\n",
    "df_matematica_moda = df_notas['Matemática'].mode()[0]\n",
    "df_ciencias_moda = df_notas['Ciências'].mode()[0]\n",
    "\n",
    "\n",
    "df_matematica_amplitude = df_notas['Matemática'].min() - df_notas['Matemática'].max()\n",
    "df_ciencias_amplitude = df_notas['Ciências'].min() - df_notas['Ciências'].max()\n",
    "\n",
    "df_matematica_variedade = df_notas['Matemática'].var()\n",
    "df_ciencias_variedade = df_notas['Ciências'].var()\n",
    "\n",
    "df_matematica_desvio = df_notas['Matemática'].std()\n",
    "df_ciencias_desvio = df_notas['Ciências'].std()\n",
    "\n",
    "\n",
    "df_matematica_covariancia = df_notas[['Matemática', 'Ciências']].cov().iloc[0, 1]\n",
    "df_ciencias_correlacao = df_notas[['Matemática', 'Ciências']].corr().iloc[0, 1]"
   ]
  },
  {
   "cell_type": "code",
   "execution_count": null,
   "id": "ea993ddb-4010-4930-8a5a-a63178eff28e",
   "metadata": {},
   "outputs": [],
   "source": []
  }
 ],
 "metadata": {
  "kernelspec": {
   "display_name": "Python 3 (ipykernel)",
   "language": "python",
   "name": "python3"
  },
  "language_info": {
   "codemirror_mode": {
    "name": "ipython",
    "version": 3
   },
   "file_extension": ".py",
   "mimetype": "text/x-python",
   "name": "python",
   "nbconvert_exporter": "python",
   "pygments_lexer": "ipython3",
   "version": "3.12.4"
  }
 },
 "nbformat": 4,
 "nbformat_minor": 5
}
