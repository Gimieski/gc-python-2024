{
 "cells": [
  {
   "cell_type": "code",
   "execution_count": 7,
   "id": "05c26c69-dee5-45d8-b207-4f2df938417b",
   "metadata": {},
   "outputs": [
    {
     "name": "stdout",
     "output_type": "stream",
     "text": [
      "Media matematica 81.57\n",
      "Mediana matematica 84.5\n",
      "Moda matematica 98\n",
      "Amplitude matematica -40\n",
      "Variedade matematica 160.75262626262628\n",
      "Desvio matematica 12.678825902370704\n"
     ]
    }
   ],
   "source": [
    "import pandas as pd\n",
    "\n",
    "df_notas=pd.read_csv('../16_dataset_notas_alunos.csv')\n",
    "df_matematica_media = df_notas['Matemática'].mean()\n",
    "df_matematica_mediana = df_notas['Matemática'].median()\n",
    "df_matematica_moda = df_notas['Matemática'].mode()[0]\n",
    "df_matematica_amplitude = df_notas['Matemática'].min() - df_notas['Matemática'].max()\n",
    "df_matematica_variedade = df_notas['Matemática'].var()\n",
    "df_matematica_desvio = df_notas['Matemática'].std()\n",
    "\n",
    "print(f\"Media matematica {df_matematica_media}\")\n",
    "print(f\"Mediana matematica {df_matematica_mediana}\")\n",
    "print(f\"Moda matematica {df_matematica_moda}\")\n",
    "print(f\"Amplitude matematica {df_matematica_amplitude}\")\n",
    "print(f\"Variedade matematica {df_matematica_variedade}\")\n",
    "print(f\"Desvio matematica {df_matematica_desvio}\")"
   ]
  },
  {
   "cell_type": "code",
   "execution_count": 8,
   "id": "ea993ddb-4010-4930-8a5a-a63178eff28e",
   "metadata": {},
   "outputs": [
    {
     "name": "stdout",
     "output_type": "stream",
     "text": [
      "Media ciencias 80.26\n",
      "Mediana ciencias 79.5\n",
      "Moda ciencias 92\n",
      "Amplitude ciencias -40\n",
      "Variedade ciencias 150.1539393939394\n",
      "Desvio ciencias 12.253731651784259\n"
     ]
    }
   ],
   "source": [
    "df_ciencias_media = df_notas['Ciências'].mean()\n",
    "df_ciencias_mediana = df_notas['Ciências'].median()\n",
    "df_ciencias_moda = df_notas['Ciências'].mode()[0]\n",
    "df_ciencias_amplitude = df_notas['Ciências'].min() - df_notas['Ciências'].max()\n",
    "df_ciencias_variedade = df_notas['Ciências'].var()\n",
    "df_ciencias_desvio = df_notas['Ciências'].std()\n",
    "\n",
    "print(f'Media ciencias {df_ciencias_media}')\n",
    "print(f'Mediana ciencias {df_ciencias_mediana}')\n",
    "print(f'Moda ciencias {df_ciencias_moda}')\n",
    "print(f'Amplitude ciencias {df_ciencias_amplitude}')\n",
    "print(f'Variedade ciencias {df_ciencias_variedade}')\n",
    "print(f'Desvio ciencias {df_ciencias_desvio}')\n"
   ]
  },
  {
   "cell_type": "code",
   "execution_count": 9,
   "id": "3e999ae1-f63d-46bf-950b-0579c3a79699",
   "metadata": {},
   "outputs": [
    {
     "name": "stdout",
     "output_type": "stream",
     "text": [
      "Convariancia 9.133131313131308\n",
      "Correlacao 0.058785781765414935\n"
     ]
    }
   ],
   "source": [
    "df_matematica_covariancia = df_notas[['Matemática', 'Ciências']].cov().iloc[0, 1]\n",
    "df_ciencias_correlacao = df_notas[['Matemática', 'Ciências']].corr().iloc[0, 1]\n",
    "\n",
    "print(f\"Convariancia {df_matematica_covariancia}\")\n",
    "print(f\"Correlacao {df_ciencias_correlacao}\")"
   ]
  },
  {
   "cell_type": "code",
   "execution_count": null,
   "id": "d83faaeb-2b68-45e6-87de-a88aeb13909a",
   "metadata": {},
   "outputs": [],
   "source": []
  }
 ],
 "metadata": {
  "kernelspec": {
   "display_name": "Python 3 (ipykernel)",
   "language": "python",
   "name": "python3"
  },
  "language_info": {
   "codemirror_mode": {
    "name": "ipython",
    "version": 3
   },
   "file_extension": ".py",
   "mimetype": "text/x-python",
   "name": "python",
   "nbconvert_exporter": "python",
   "pygments_lexer": "ipython3",
   "version": "3.12.4"
  }
 },
 "nbformat": 4,
 "nbformat_minor": 5
}
