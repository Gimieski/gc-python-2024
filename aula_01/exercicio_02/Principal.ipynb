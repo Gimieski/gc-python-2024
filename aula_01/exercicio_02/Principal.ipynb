{
 "cells": [
  {
   "cell_type": "code",
   "execution_count": 8,
   "id": "69dc98fd-4bba-46d3-83b9-6adc7e54f21a",
   "metadata": {},
   "outputs": [
    {
     "name": "stdout",
     "output_type": "stream",
     "text": [
      "==========Soma de 2 números!==========\n"
     ]
    },
    {
     "name": "stdin",
     "output_type": "stream",
     "text": [
      "Digite o primeiro número  dwad\n"
     ]
    },
    {
     "name": "stdout",
     "output_type": "stream",
     "text": [
      "Valores inválidos\n"
     ]
    }
   ],
   "source": [
    "print(\"==========Soma de 2 números!==========\")\n",
    "try:\n",
    "    numb1 = float(input(\"Digite o primeiro número \"))\n",
    "    numb2 = float(input(\"Digite o segundo número \"))\n",
    "    print(numb1 + numb2)\n",
    "except ValueError:\n",
    "    print(\"Valores inválidos\")"
   ]
  },
  {
   "cell_type": "code",
   "execution_count": null,
   "id": "18656c81-6411-40e1-adfe-c21718da77eb",
   "metadata": {},
   "outputs": [],
   "source": []
  }
 ],
 "metadata": {
  "kernelspec": {
   "display_name": "Python 3 (ipykernel)",
   "language": "python",
   "name": "python3"
  },
  "language_info": {
   "codemirror_mode": {
    "name": "ipython",
    "version": 3
   },
   "file_extension": ".py",
   "mimetype": "text/x-python",
   "name": "python",
   "nbconvert_exporter": "python",
   "pygments_lexer": "ipython3",
   "version": "3.12.4"
  }
 },
 "nbformat": 4,
 "nbformat_minor": 5
}
