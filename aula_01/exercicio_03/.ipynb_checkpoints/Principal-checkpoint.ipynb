{
 "cells": [
  {
   "cell_type": "code",
   "execution_count": 3,
   "id": "2d8b02e3-71cd-404f-b0af-fc4e2e2eef11",
   "metadata": {},
   "outputs": [
    {
     "name": "stdout",
     "output_type": "stream",
     "text": [
      "==========Forneça 3 números, teremos o maior, o menor e a média aritmética!==========\n"
     ]
    },
    {
     "name": "stdin",
     "output_type": "stream",
     "text": [
      "Digite o primeiro número  2\n",
      "Digite o segundo número  3\n",
      "Digite o terceiro número  4\n"
     ]
    },
    {
     "name": "stdout",
     "output_type": "stream",
     "text": [
      "Maior 4.0\n",
      "Menor 2.0\n",
      "Média 3.0\n"
     ]
    }
   ],
   "source": [
    "print(\"==========Forneça 3 números, teremos o maior, o menor e a média aritmética!==========\")\n",
    "\n",
    "try:\n",
    "    numb1 = float(input(\"Digite o primeiro número \"))\n",
    "    numb2 = float(input(\"Digite o segundo número \"))\n",
    "    numb3 = float(input(\"Digite o terceiro número \"))\n",
    "    \n",
    "    maior = max(numb1, numb2, numb3)\n",
    "    menor = min(numb1, numb2, numb3)\n",
    "    media = (numb1 + numb2 + numb3) / 3\n",
    "\n",
    "    print(f\"Maior {maior}\")\n",
    "    print(f\"Menor {menor}\")\n",
    "    print(f\"Média {media}\")\n",
    "except ValueError:\n",
    "    print(\"Valores inválidos\")\n",
    "\n"
   ]
  },
  {
   "cell_type": "code",
   "execution_count": null,
   "id": "6425ce93-cce9-434a-bc40-0d78678f6623",
   "metadata": {},
   "outputs": [],
   "source": []
  }
 ],
 "metadata": {
  "kernelspec": {
   "display_name": "Python 3 (ipykernel)",
   "language": "python",
   "name": "python3"
  },
  "language_info": {
   "codemirror_mode": {
    "name": "ipython",
    "version": 3
   },
   "file_extension": ".py",
   "mimetype": "text/x-python",
   "name": "python",
   "nbconvert_exporter": "python",
   "pygments_lexer": "ipython3",
   "version": "3.12.4"
  }
 },
 "nbformat": 4,
 "nbformat_minor": 5
}
