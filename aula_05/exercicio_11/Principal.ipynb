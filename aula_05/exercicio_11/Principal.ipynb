{
 "cells": [
  {
   "cell_type": "code",
   "execution_count": 61,
   "id": "663cfed4-6072-4e59-bab3-44b98597a88d",
   "metadata": {},
   "outputs": [],
   "source": [
    "import pandas as pd"
   ]
  },
  {
   "cell_type": "code",
   "execution_count": 62,
   "id": "845f404d-6475-4750-9abe-eb10adacfe71",
   "metadata": {},
   "outputs": [
    {
     "name": "stdout",
     "output_type": "stream",
     "text": [
      "   id_musica      nome_musica            artista   genero  duracao\n",
      "0          1  Congratulations         Mac Miller  Hip Hop     4.16\n",
      "1          2  National Anthem       Lana Del Rey      Pop     3.50\n",
      "2          3         Espresso  Sabrina Carpenter      Pop     2.55\n",
      "3          4          LOYALTY     Kendrick Lamar  Hip Hop     3.47\n",
      "4          5         Treasure         Bruno Mars      Pop     2.58\n"
     ]
    }
   ],
   "source": [
    "musicas = pd.DataFrame({\n",
    "    'id_musica': [1, 2, 3, 4, 5],\n",
    "    'nome_musica': ['Congratulations', 'National Anthem','Espresso', 'LOYALTY', 'Treasure'],\n",
    "    'artista': ['Mac Miller', 'Lana Del Rey', 'Sabrina Carpenter', 'Kendrick Lamar', 'Bruno Mars'],\n",
    "        'genero': ['Hip Hop', 'Pop', 'Pop', 'Hip Hop', 'Pop'],\n",
    "    'duracao': [4.16, 3.50, 2.55, 3.47, 2.58]\n",
    "})\n",
    "\n",
    "print(musicas)"
   ]
  },
  {
   "cell_type": "code",
   "execution_count": 63,
   "id": "6b078e95-6b13-4484-9059-8cb805b5633b",
   "metadata": {},
   "outputs": [
    {
     "name": "stdout",
     "output_type": "stream",
     "text": [
      "   id_reproducao  id_musica data_reproducao  duracao_reproducao\n",
      "0              1          1      2024-10-01                4.16\n",
      "1              2          2      2024-10-02                3.50\n",
      "2              3          3      2024-10-03                2.55\n",
      "3              4          4      2024-10-04                3.47\n",
      "4              5          5      2024-10-05                2.58\n"
     ]
    }
   ],
   "source": [
    "reproducoes = pd.DataFrame({\n",
    "    'id_reproducao': [1, 2, 3, 4, 5],\n",
    "    'id_musica': [1, 2, 3, 4, 5],\n",
    "    'data_reproducao': ['2024-10-01', '2024-10-02', '2024-10-03', '2024-10-04', '2024-10-05'],\n",
    "    'duracao_reproducao': [4.16, 3.50, 2.55, 3.47, 2.58]\n",
    "})\n",
    "\n",
    "print(reproducoes)"
   ]
  },
  {
   "cell_type": "code",
   "execution_count": 64,
   "id": "259a297c-7583-4f5a-82f9-3b984313217f",
   "metadata": {},
   "outputs": [
    {
     "data": {
      "text/html": [
       "<div>\n",
       "<style scoped>\n",
       "    .dataframe tbody tr th:only-of-type {\n",
       "        vertical-align: middle;\n",
       "    }\n",
       "\n",
       "    .dataframe tbody tr th {\n",
       "        vertical-align: top;\n",
       "    }\n",
       "\n",
       "    .dataframe thead th {\n",
       "        text-align: right;\n",
       "    }\n",
       "</style>\n",
       "<table border=\"1\" class=\"dataframe\">\n",
       "  <thead>\n",
       "    <tr style=\"text-align: right;\">\n",
       "      <th></th>\n",
       "      <th>nome_musica</th>\n",
       "      <th>artista</th>\n",
       "      <th>duracao_reproducao</th>\n",
       "    </tr>\n",
       "  </thead>\n",
       "  <tbody>\n",
       "    <tr>\n",
       "      <th>0</th>\n",
       "      <td>Congratulations</td>\n",
       "      <td>Mac Miller</td>\n",
       "      <td>4.16</td>\n",
       "    </tr>\n",
       "    <tr>\n",
       "      <th>1</th>\n",
       "      <td>National Anthem</td>\n",
       "      <td>Lana Del Rey</td>\n",
       "      <td>3.50</td>\n",
       "    </tr>\n",
       "    <tr>\n",
       "      <th>2</th>\n",
       "      <td>Espresso</td>\n",
       "      <td>Sabrina Carpenter</td>\n",
       "      <td>2.55</td>\n",
       "    </tr>\n",
       "    <tr>\n",
       "      <th>3</th>\n",
       "      <td>LOYALTY</td>\n",
       "      <td>Kendrick Lamar</td>\n",
       "      <td>3.47</td>\n",
       "    </tr>\n",
       "    <tr>\n",
       "      <th>4</th>\n",
       "      <td>Treasure</td>\n",
       "      <td>Bruno Mars</td>\n",
       "      <td>2.58</td>\n",
       "    </tr>\n",
       "  </tbody>\n",
       "</table>\n",
       "</div>"
      ],
      "text/plain": [
       "       nome_musica            artista  duracao_reproducao\n",
       "0  Congratulations         Mac Miller                4.16\n",
       "1  National Anthem       Lana Del Rey                3.50\n",
       "2         Espresso  Sabrina Carpenter                2.55\n",
       "3          LOYALTY     Kendrick Lamar                3.47\n",
       "4         Treasure         Bruno Mars                2.58"
      ]
     },
     "execution_count": 64,
     "metadata": {},
     "output_type": "execute_result"
    }
   ],
   "source": [
    "musicas_reproduzidas = pd.merge(reproducoes, musicas, on='id_musica')\n",
    "\n",
    "musicas_reproduzidas[['nome_musica', 'artista', 'duracao_reproducao']]"
   ]
  },
  {
   "cell_type": "code",
   "execution_count": 65,
   "id": "688665be-142e-4a3e-b705-dbdf38b9d74d",
   "metadata": {},
   "outputs": [
    {
     "data": {
      "text/html": [
       "<div>\n",
       "<style scoped>\n",
       "    .dataframe tbody tr th:only-of-type {\n",
       "        vertical-align: middle;\n",
       "    }\n",
       "\n",
       "    .dataframe tbody tr th {\n",
       "        vertical-align: top;\n",
       "    }\n",
       "\n",
       "    .dataframe thead th {\n",
       "        text-align: right;\n",
       "    }\n",
       "</style>\n",
       "<table border=\"1\" class=\"dataframe\">\n",
       "  <thead>\n",
       "    <tr style=\"text-align: right;\">\n",
       "      <th></th>\n",
       "      <th>id_musica</th>\n",
       "      <th>nome_musica</th>\n",
       "      <th>artista</th>\n",
       "      <th>genero</th>\n",
       "      <th>duracao</th>\n",
       "      <th>id_reproducao</th>\n",
       "      <th>data_reproducao</th>\n",
       "      <th>duracao_reproducao</th>\n",
       "    </tr>\n",
       "  </thead>\n",
       "  <tbody>\n",
       "    <tr>\n",
       "      <th>0</th>\n",
       "      <td>1</td>\n",
       "      <td>Congratulations</td>\n",
       "      <td>Mac Miller</td>\n",
       "      <td>Hip Hop</td>\n",
       "      <td>4.16</td>\n",
       "      <td>1.0</td>\n",
       "      <td>2024-10-01</td>\n",
       "      <td>4.16</td>\n",
       "    </tr>\n",
       "    <tr>\n",
       "      <th>1</th>\n",
       "      <td>2</td>\n",
       "      <td>National Anthem</td>\n",
       "      <td>Lana Del Rey</td>\n",
       "      <td>Pop</td>\n",
       "      <td>3.50</td>\n",
       "      <td>2.0</td>\n",
       "      <td>2024-10-02</td>\n",
       "      <td>3.5</td>\n",
       "    </tr>\n",
       "    <tr>\n",
       "      <th>2</th>\n",
       "      <td>3</td>\n",
       "      <td>Espresso</td>\n",
       "      <td>Sabrina Carpenter</td>\n",
       "      <td>Pop</td>\n",
       "      <td>2.55</td>\n",
       "      <td>3.0</td>\n",
       "      <td>2024-10-03</td>\n",
       "      <td>2.55</td>\n",
       "    </tr>\n",
       "    <tr>\n",
       "      <th>3</th>\n",
       "      <td>4</td>\n",
       "      <td>LOYALTY</td>\n",
       "      <td>Kendrick Lamar</td>\n",
       "      <td>Hip Hop</td>\n",
       "      <td>3.47</td>\n",
       "      <td>4.0</td>\n",
       "      <td>2024-10-04</td>\n",
       "      <td>3.47</td>\n",
       "    </tr>\n",
       "    <tr>\n",
       "      <th>4</th>\n",
       "      <td>5</td>\n",
       "      <td>Treasure</td>\n",
       "      <td>Bruno Mars</td>\n",
       "      <td>Pop</td>\n",
       "      <td>2.58</td>\n",
       "      <td>Não Reproduzida</td>\n",
       "      <td>Não Reproduzida</td>\n",
       "      <td>Não Reproduzida</td>\n",
       "    </tr>\n",
       "  </tbody>\n",
       "</table>\n",
       "</div>"
      ],
      "text/plain": [
       "   id_musica      nome_musica            artista   genero  duracao  \\\n",
       "0          1  Congratulations         Mac Miller  Hip Hop     4.16   \n",
       "1          2  National Anthem       Lana Del Rey      Pop     3.50   \n",
       "2          3         Espresso  Sabrina Carpenter      Pop     2.55   \n",
       "3          4          LOYALTY     Kendrick Lamar  Hip Hop     3.47   \n",
       "4          5         Treasure         Bruno Mars      Pop     2.58   \n",
       "\n",
       "     id_reproducao  data_reproducao duracao_reproducao  \n",
       "0              1.0       2024-10-01               4.16  \n",
       "1              2.0       2024-10-02                3.5  \n",
       "2              3.0       2024-10-03               2.55  \n",
       "3              4.0       2024-10-04               3.47  \n",
       "4  Não Reproduzida  Não Reproduzida    Não Reproduzida  "
      ]
     },
     "execution_count": 65,
     "metadata": {},
     "output_type": "execute_result"
    }
   ],
   "source": [
    "reproducoes = reproducoes.drop(4)\n",
    "musicas_listadas = pd.merge(musicas, reproducoes, on='id_musica', how='left').fillna('Não Reproduzida')\n",
    "\n",
    "musicas_listadas"
   ]
  },
  {
   "cell_type": "code",
   "execution_count": 66,
   "id": "e8b63348",
   "metadata": {},
   "outputs": [
    {
     "data": {
      "text/plain": [
       "0    4.16\n",
       "1    3.50\n",
       "2    2.55\n",
       "3    3.47\n",
       "4    0.00\n",
       "Name: duracao_reproducao, dtype: float64"
      ]
     },
     "execution_count": 66,
     "metadata": {},
     "output_type": "execute_result"
    }
   ],
   "source": [
    "musicas_listadas['duracao_reproducao'] = pd.to_numeric(musicas_listadas['duracao_reproducao'],errors='coerce')\n",
    "musicas_listadas['duracao_reproducao'].fillna(0)"
   ]
  },
  {
   "cell_type": "code",
   "execution_count": 67,
   "id": "3f7b260e",
   "metadata": {},
   "outputs": [
    {
     "name": "stdout",
     "output_type": "stream",
     "text": [
      "Hip Hop\n"
     ]
    }
   ],
   "source": [
    "genero_mais_reproduzido = musicas_listadas.groupby('genero')['duracao_reproducao'].sum().idxmax()\n",
    "print(genero_mais_reproduzido)"
   ]
  },
  {
   "cell_type": "code",
   "execution_count": 68,
   "id": "4f4584b3",
   "metadata": {},
   "outputs": [
    {
     "name": "stdout",
     "output_type": "stream",
     "text": [
      "13.680000000000001\n"
     ]
    }
   ],
   "source": [
    "quantidade_reproducao = musicas_listadas['duracao_reproducao'].sum()\n",
    "print(quantidade_reproducao)"
   ]
  },
  {
   "cell_type": "code",
   "execution_count": 69,
   "id": "f4917b25",
   "metadata": {},
   "outputs": [
    {
     "data": {
      "text/html": [
       "<div>\n",
       "<style scoped>\n",
       "    .dataframe tbody tr th:only-of-type {\n",
       "        vertical-align: middle;\n",
       "    }\n",
       "\n",
       "    .dataframe tbody tr th {\n",
       "        vertical-align: top;\n",
       "    }\n",
       "\n",
       "    .dataframe thead th {\n",
       "        text-align: right;\n",
       "    }\n",
       "</style>\n",
       "<table border=\"1\" class=\"dataframe\">\n",
       "  <thead>\n",
       "    <tr style=\"text-align: right;\">\n",
       "      <th></th>\n",
       "      <th>id_musica</th>\n",
       "      <th>nome_musica</th>\n",
       "      <th>artista</th>\n",
       "      <th>genero</th>\n",
       "      <th>duracao</th>\n",
       "      <th>id_reproducao</th>\n",
       "      <th>data_reproducao</th>\n",
       "      <th>duracao_reproducao</th>\n",
       "      <th>avaliacao</th>\n",
       "    </tr>\n",
       "  </thead>\n",
       "  <tbody>\n",
       "    <tr>\n",
       "      <th>0</th>\n",
       "      <td>1</td>\n",
       "      <td>Congratulations</td>\n",
       "      <td>Mac Miller</td>\n",
       "      <td>Hip Hop</td>\n",
       "      <td>4.16</td>\n",
       "      <td>1.0</td>\n",
       "      <td>2024-10-01</td>\n",
       "      <td>4.16</td>\n",
       "      <td>5</td>\n",
       "    </tr>\n",
       "    <tr>\n",
       "      <th>1</th>\n",
       "      <td>2</td>\n",
       "      <td>National Anthem</td>\n",
       "      <td>Lana Del Rey</td>\n",
       "      <td>Pop</td>\n",
       "      <td>3.50</td>\n",
       "      <td>2.0</td>\n",
       "      <td>2024-10-02</td>\n",
       "      <td>3.50</td>\n",
       "      <td>5</td>\n",
       "    </tr>\n",
       "    <tr>\n",
       "      <th>2</th>\n",
       "      <td>3</td>\n",
       "      <td>Espresso</td>\n",
       "      <td>Sabrina Carpenter</td>\n",
       "      <td>Pop</td>\n",
       "      <td>2.55</td>\n",
       "      <td>3.0</td>\n",
       "      <td>2024-10-03</td>\n",
       "      <td>2.55</td>\n",
       "      <td>5</td>\n",
       "    </tr>\n",
       "    <tr>\n",
       "      <th>3</th>\n",
       "      <td>4</td>\n",
       "      <td>LOYALTY</td>\n",
       "      <td>Kendrick Lamar</td>\n",
       "      <td>Hip Hop</td>\n",
       "      <td>3.47</td>\n",
       "      <td>4.0</td>\n",
       "      <td>2024-10-04</td>\n",
       "      <td>3.47</td>\n",
       "      <td>5</td>\n",
       "    </tr>\n",
       "    <tr>\n",
       "      <th>4</th>\n",
       "      <td>5</td>\n",
       "      <td>Treasure</td>\n",
       "      <td>Bruno Mars</td>\n",
       "      <td>Pop</td>\n",
       "      <td>2.58</td>\n",
       "      <td>Não Reproduzida</td>\n",
       "      <td>Não Reproduzida</td>\n",
       "      <td>NaN</td>\n",
       "      <td>5</td>\n",
       "    </tr>\n",
       "  </tbody>\n",
       "</table>\n",
       "</div>"
      ],
      "text/plain": [
       "   id_musica      nome_musica            artista   genero  duracao  \\\n",
       "0          1  Congratulations         Mac Miller  Hip Hop     4.16   \n",
       "1          2  National Anthem       Lana Del Rey      Pop     3.50   \n",
       "2          3         Espresso  Sabrina Carpenter      Pop     2.55   \n",
       "3          4          LOYALTY     Kendrick Lamar  Hip Hop     3.47   \n",
       "4          5         Treasure         Bruno Mars      Pop     2.58   \n",
       "\n",
       "     id_reproducao  data_reproducao  duracao_reproducao  avaliacao  \n",
       "0              1.0       2024-10-01                4.16          5  \n",
       "1              2.0       2024-10-02                3.50          5  \n",
       "2              3.0       2024-10-03                2.55          5  \n",
       "3              4.0       2024-10-04                3.47          5  \n",
       "4  Não Reproduzida  Não Reproduzida                 NaN          5  "
      ]
     },
     "execution_count": 69,
     "metadata": {},
     "output_type": "execute_result"
    }
   ],
   "source": [
    "musicas_listadas['avaliacao'] = [5,5,5,5,5]\n",
    "musicas_listadas\n"
   ]
  }
 ],
 "metadata": {
  "kernelspec": {
   "display_name": "Python 3 (ipykernel)",
   "language": "python",
   "name": "python3"
  },
  "language_info": {
   "codemirror_mode": {
    "name": "ipython",
    "version": 3
   },
   "file_extension": ".py",
   "mimetype": "text/x-python",
   "name": "python",
   "nbconvert_exporter": "python",
   "pygments_lexer": "ipython3",
   "version": "3.11.9"
  }
 },
 "nbformat": 4,
 "nbformat_minor": 5
}
