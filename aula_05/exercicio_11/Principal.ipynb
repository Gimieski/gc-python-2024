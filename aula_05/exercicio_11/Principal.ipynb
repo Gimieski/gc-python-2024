{
 "cells": [
  {
   "cell_type": "code",
   "execution_count": 4,
   "id": "663cfed4-6072-4e59-bab3-44b98597a88d",
   "metadata": {},
   "outputs": [],
   "source": [
    "import pandas as pd"
   ]
  },
  {
   "cell_type": "code",
   "execution_count": 8,
   "id": "845f404d-6475-4750-9abe-eb10adacfe71",
   "metadata": {},
   "outputs": [
    {
     "name": "stdout",
     "output_type": "stream",
     "text": [
      "   id_musica      nome_musica            artista   genero  duracao\n",
      "0          1  Congratulations         Mac Miller  Hip Hop     4.16\n",
      "1          2  National Anthem       Lana Del Rey      Pop     3.50\n",
      "2          3         Espresso  Sabrina Carpenter      Pop     2.55\n",
      "3          4          LOYALTY     Kendrick Lamar  Hip Hop     3.47\n",
      "4          5         Treasure         Bruno Mars      Pop     2.58\n"
     ]
    }
   ],
   "source": [
    "musicas = pd.DataFrame({\n",
    "    'id_musica': [1, 2, 3, 4, 5],\n",
    "    'nome_musica': ['Congratulations', 'National Anthem','Espresso', 'LOYALTY', 'Treasure'],\n",
    "    'artista': ['Mac Miller', 'Lana Del Rey', 'Sabrina Carpenter', 'Kendrick Lamar', 'Bruno Mars'],\n",
    "        'genero': ['Hip Hop', 'Pop', 'Pop', 'Hip Hop', 'Pop'],\n",
    "    'duracao': [4.16, 3.50, 2.55, 3.47, 2.58]\n",
    "})\n",
    "\n",
    "print(musicas)"
   ]
  },
  {
   "cell_type": "code",
   "execution_count": 16,
   "id": "6b078e95-6b13-4484-9059-8cb805b5633b",
   "metadata": {},
   "outputs": [
    {
     "name": "stdout",
     "output_type": "stream",
     "text": [
      "   id_reproducao  id_musica data_reproducao  duracao_reproducao\n",
      "0              1          1      2024-10-01                4.16\n",
      "1              2          2      2024-10-02                3.50\n",
      "2              3          3      2024-10-03                2.55\n",
      "3              4          4      2024-10-04                3.47\n",
      "4              5          5      2024-10-05                2.58\n"
     ]
    }
   ],
   "source": [
    "reproducoes = pd.DataFrame({\n",
    "    'id_reproducao': [1, 2, 3, 4, 5],\n",
    "    'id_musica': [1, 2, 3, 4, 5],\n",
    "    'data_reproducao': ['2024-10-01', '2024-10-02', '2024-10-03', '2024-10-04', '2024-10-05'],\n",
    "    'duracao_reproducao': [4.16, 3.50, 2.55, 3.47, 2.58]\n",
    "})\n",
    "\n",
    "print(reproducoes)"
   ]
  }
 ],
 "metadata": {
  "kernelspec": {
   "display_name": "Python 3 (ipykernel)",
   "language": "python",
   "name": "python3"
  },
  "language_info": {
   "codemirror_mode": {
    "name": "ipython",
    "version": 3
   },
   "file_extension": ".py",
   "mimetype": "text/x-python",
   "name": "python",
   "nbconvert_exporter": "python",
   "pygments_lexer": "ipython3",
   "version": "3.12.4"
  }
 },
 "nbformat": 4,
 "nbformat_minor": 5
}
