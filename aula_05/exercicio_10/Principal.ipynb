{
 "cells": [
  {
   "cell_type": "markdown",
   "id": "5b11dcd3-eb51-43d9-b2dc-af446a22883e",
   "metadata": {},
   "source": [
    "## Explique como a relação entre duas tabelas com chaves primárias e estrangeiras pode ser representada com dataframes no Pandas\n",
    "Para simular a relação entre tabelas com chaves primárias e estrangeiras, utilizamos principalmente a função merge do Pandas. Essa função combina DataFrames com base em uma ou mais colunas, que correspondem às chaves primárias e estrangeiras."
   ]
  },
  {
   "cell_type": "markdown",
   "id": "4167d814-6905-441e-8c44-324750c331a1",
   "metadata": {},
   "source": [
    "## Qual a diferença entre os métodos .merge() e .join() no Pandas?\n",
    "merge() é usado principalmente para fazer junções de DataFrames com base em colunas e é inspirado no conceito de joins do SQL. Podendo ser usado para mesclar DataFrames com base em colunas de nomes iguais ou diferentes. Já o .join() é usado principalmente para unir DataFrames com base em seus índices, podendo juntar mais de um DataFrame ao mesmo tempo."
   ]
  },
  {
   "cell_type": "markdown",
   "id": "17436d6b-42cd-4ecf-863f-60fc393032b3",
   "metadata": {},
   "source": [
    "## Quando você usaria um inner join ao invés de um left join? Explique com exemplos.\n",
    "O inner join é usado para pegar dados onde existe sempre a ocorrência em ambas as tabelas, eu usaria o left join caso eu precisasse de uma informação, mas caso ela não existisse não teria problema, por exemplo: Pegar as informações de um cliente e de outra tabela os pedidos para exibir a quantidade de pedidos que ele tem, mas caso não tenha pedidos, eu vou pegar a informação do cliente igual, só não vai ter a quantidade de pedidos."
   ]
  }
 ],
 "metadata": {
  "kernelspec": {
   "display_name": "Python 3 (ipykernel)",
   "language": "python",
   "name": "python3"
  },
  "language_info": {
   "codemirror_mode": {
    "name": "ipython",
    "version": 3
   },
   "file_extension": ".py",
   "mimetype": "text/x-python",
   "name": "python",
   "nbconvert_exporter": "python",
   "pygments_lexer": "ipython3",
   "version": "3.12.4"
  }
 },
 "nbformat": 4,
 "nbformat_minor": 5
}
