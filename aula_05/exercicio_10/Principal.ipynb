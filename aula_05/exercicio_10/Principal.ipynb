{
 "cells": [
  {
   "cell_type": "markdown",
   "metadata": {},
   "source": [
    "# Em que situação um merge resultaria em valores faltantes? Como podemos lidar com esses valores?"
   ]
  },
  {
   "cell_type": "markdown",
   "metadata": {},
   "source": [
    "Um marge de DataFrames no Panda pode resultar em valores faltantes(NaN) principalmente em operacoes de juncao \"outer\" ou \"left\". Por exemplo, ao usa (how='outer'), todas as linhas de ambos os DataFrames sao incluidas, e as que nao tem correspondencia ficam com NaNs. Para lidar com esses valores voce pode usar o .dropna() para remover linhas ou colunas com NaNs, ou .fellna() para preenche-los com um valor expecifico, como zero ou a media da coluna."
   ]
  },
  {
   "cell_type": "markdown",
   "metadata": {},
   "source": [
    "# Quais são as maneiras de tratar dados faltantes no Pandas? Explique os métodos .dropna() e .fillna(). "
   ]
  },
  {
   "cell_type": "markdown",
   "metadata": {},
   "source": [
    "No Pandas, existem várias maneiras de lidar com dados faltantes, que podem ser essenciais para garantir a qualidade e a integridade da análise de dados. Os métodos mais comuns são .dropna() e .fillna().\n",
    "\n",
    "O método .dropna() é utilizado para remover dados faltantes (NaN) de um DataFrame ou de uma Série. Dependendo dos parâmetros que você especificar, ele pode remover linhas ou colunas inteiras que contenham valores faltantes.\n",
    "\n",
    "O método .fillna() é usado para preencher valores faltantes com um valor especificado. Isso pode ser útil para manter a estrutura dos dados, evitando a remoção de linhas ou colunas.\n"
   ]
  }
 ],
 "metadata": {
  "language_info": {
   "name": "python"
  }
 },
 "nbformat": 4,
 "nbformat_minor": 2
}
