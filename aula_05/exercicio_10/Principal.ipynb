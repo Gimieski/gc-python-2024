{
 "cells": [
  {
   "cell_type": "markdown",
   "id": "99991e5a-9dfb-47e3-a878-e411d0bfbafa",
   "metadata": {},
   "source": [
    "# Exercício 10 Coop - Responda as Perguntas"
   ]
  },
  {
   "cell_type": "markdown",
   "id": "b6dfb445-9244-4bf2-ab2c-0b77c7ecc1d6",
   "metadata": {},
   "source": [
    "## ✦ O que é uma chave primária em um banco de dados? Por que é importante que cada tabela tenha uma chave primária?\n",
    "A chave primária um campo ou conjunto de campos com valores exclusivos por toda a tabela, significa que o valor da chave primária nunca se repete e não pode ser nulo. A chave primária garante que cada registro seja individualmente identificável, evitando duplicidades e inconsistências nos dados."
   ]
  },
  {
   "cell_type": "markdown",
   "id": "33333459-3735-4e1d-9513-035ec7b5f459",
   "metadata": {},
   "source": [
    "## ✦ Em um dataframe do Pandas, como você pode identificar uma coluna que atua como uma chave primária?\n",
    "Para identificarmos essa situação temos duas caracteristicas principais, a coluna não deve conter valores duplicados. Em outras palavras, cada valor na coluna deve ser único e não deve conter valores nulos."
   ]
  },
  {
   "cell_type": "markdown",
   "id": "7a74b011-47d0-48d8-871f-729fbaa0c683",
   "metadata": {},
   "source": [
    "## ✦ O que são chaves estrangeiras e como elas se relacionam com as chaves primárias?\n",
    "A chave estrangeira é uma ou mais colunas de outra tabela que faz referência à chave primária de uma tabela. A ou as chaves estrangeiras criam conexões entre tabelas, permitindo que você relacione dados de diferentes entidades, assim, mantem a integridade referencial dos dados, garantindo que as relações entre as tabelas sejam consistentes"
   ]
  }
 ],
 "metadata": {
  "kernelspec": {
   "display_name": "Python 3 (ipykernel)",
   "language": "python",
   "name": "python3"
  },
  "language_info": {
   "codemirror_mode": {
    "name": "ipython",
    "version": 3
   },
   "file_extension": ".py",
   "mimetype": "text/x-python",
   "name": "python",
   "nbconvert_exporter": "python",
   "pygments_lexer": "ipython3",
   "version": "3.12.4"
  }
 },
 "nbformat": 4,
 "nbformat_minor": 5
}
