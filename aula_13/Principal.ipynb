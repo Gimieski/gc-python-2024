{
 "cells": [
  {
   "cell_type": "code",
   "execution_count": 566,
   "id": "a04a3bb9-c37d-4a86-acbb-5dabdc53e026",
   "metadata": {},
   "outputs": [],
   "source": [
    "import pandas as pd\n",
    "from sklearn.model_selection import cross_val_score, train_test_split\n",
    "from sklearn.preprocessing import LabelEncoder\n",
    "from sklearn.neighbors import KNeighborsClassifier\n",
    "from sklearn.metrics import confusion_matrix, accuracy_score\n",
    "from sklearn.preprocessing import MinMaxScaler"
   ]
  },
  {
   "cell_type": "code",
   "execution_count": 567,
   "id": "1f16f5ca-0ea8-4a03-b74a-fb3a2b0405e9",
   "metadata": {},
   "outputs": [],
   "source": [
    "scaler = MinMaxScaler()\n",
    "\n",
    "df = pd.read_csv('./penguins.csv')\n",
    "\n",
    "df = df.dropna()\n",
    "\n",
    "pinguins = df[[\"bill_length_mm\", \"bill_depth_mm\", \"flipper_length_mm\", \"body_mass_g\", \"island\"]]"
   ]
  },
  {
   "cell_type": "code",
   "execution_count": 568,
   "id": "c6bb77fa-d949-460f-95b9-014c48cfebaf",
   "metadata": {},
   "outputs": [],
   "source": [
    "pinguins_dummies = pd.get_dummies(pinguins, columns=[\"island\"], drop_first=True, dtype=\"float\")"
   ]
  },
  {
   "cell_type": "code",
   "execution_count": 569,
   "id": "aee7b988-fe5d-4051-88f4-bb14855c85bc",
   "metadata": {},
   "outputs": [
    {
     "data": {
      "text/plain": [
       "array([[0.25454545, 0.66666667, 0.15254237, 0.29166667, 0.        ,\n",
       "        1.        ],\n",
       "       [0.26909091, 0.51190476, 0.23728814, 0.30555556, 0.        ,\n",
       "        1.        ],\n",
       "       [0.29818182, 0.58333333, 0.38983051, 0.15277778, 0.        ,\n",
       "        1.        ],\n",
       "       ...,\n",
       "       [0.63636364, 0.60714286, 0.3559322 , 0.29861111, 1.        ,\n",
       "        0.        ],\n",
       "       [0.68      , 0.70238095, 0.6440678 , 0.38888889, 1.        ,\n",
       "        0.        ],\n",
       "       [0.65818182, 0.66666667, 0.44067797, 0.29861111, 1.        ,\n",
       "        0.        ]])"
      ]
     },
     "execution_count": 569,
     "metadata": {},
     "output_type": "execute_result"
    }
   ],
   "source": [
    "pinguins_dummies = scaler.fit_transform(pinguins_dummies)\n",
    "pinguins_dummies"
   ]
  },
  {
   "cell_type": "code",
   "execution_count": 570,
   "id": "30f6378c-028a-41ca-a996-a5ef925a03e1",
   "metadata": {},
   "outputs": [],
   "source": [
    "X = pinguins_dummies\n",
    "y = df['species']"
   ]
  },
  {
   "cell_type": "code",
   "execution_count": 571,
   "id": "88095596-7fe7-4795-bb9e-cfd43490dd4a",
   "metadata": {},
   "outputs": [
    {
     "name": "stdout",
     "output_type": "stream",
     "text": [
      "[1.         0.97058824 1.         1.         1.         1.\n",
      " 1.         1.         1.         0.90909091]\n",
      "98.8\n"
     ]
    }
   ],
   "source": [
    "#  aqui definimos a distance do knn da distancia da procura\n",
    "knn = KNeighborsClassifier(n_neighbors=3)\n",
    "\n",
    "# validamos de forma de separar e embaralhar o dataset em 10\n",
    "cross_val_scores = cross_val_score(knn, X, y, cv=10)\n",
    "print(cross_val_scores)\n",
    "print(round(cross_val_scores.mean() * 100,2))"
   ]
  },
  {
   "cell_type": "code",
   "execution_count": 572,
   "id": "82e9f246-70d9-4086-8b95-489b2ef430d2",
   "metadata": {},
   "outputs": [
    {
     "data": {
      "text/plain": [
       "100.0"
      ]
     },
     "execution_count": 572,
     "metadata": {},
     "output_type": "execute_result"
    }
   ],
   "source": [
    "X_train, X_test, y_train, y_test = train_test_split(X, y, test_size=0.3, random_state=30)\n",
    "\n",
    "# Treinar o modelo\n",
    "knn.fit(X_train, y_train)\n",
    "\n",
    "#  previsoes com valores teste\n",
    "y_pred = knn.predict(X_test)\n",
    "\n",
    "accuracy_holdout = accuracy_score(y_test, y_pred)\n",
    "round(accuracy_holdout * 100,2)"
   ]
  },
  {
   "cell_type": "code",
   "execution_count": 573,
   "id": "9c985f85-2cf5-4732-808d-f9cb375e5f89",
   "metadata": {},
   "outputs": [
    {
     "data": {
      "text/plain": [
       "array([[50,  0,  0],\n",
       "       [ 0, 12,  0],\n",
       "       [ 0,  0, 38]], dtype=int64)"
      ]
     },
     "execution_count": 573,
     "metadata": {},
     "output_type": "execute_result"
    }
   ],
   "source": [
    "conf_matrix = confusion_matrix(y_test, y_pred)\n",
    "conf_matrix"
   ]
  }
 ],
 "metadata": {
  "kernelspec": {
   "display_name": "Python 3 (ipykernel)",
   "language": "python",
   "name": "python3"
  },
  "language_info": {
   "codemirror_mode": {
    "name": "ipython",
    "version": 3
   },
   "file_extension": ".py",
   "mimetype": "text/x-python",
   "name": "python",
   "nbconvert_exporter": "python",
   "pygments_lexer": "ipython3",
   "version": "3.12.4"
  }
 },
 "nbformat": 4,
 "nbformat_minor": 5
}
