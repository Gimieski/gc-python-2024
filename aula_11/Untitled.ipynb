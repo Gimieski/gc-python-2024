{
 "cells": [
  {
   "cell_type": "markdown",
   "id": "01cdb9f6-7969-413e-988e-e7c60ab9ac0b",
   "metadata": {},
   "source": [
    "Discretivar atributo numérico que possui os valores abaixo em 3 intervalos. User: Larguras iguais, Frequencias iguais e inspeçao visual"
   ]
  },
  {
   "cell_type": "code",
   "execution_count": 4,
   "id": "9e0a8896-2737-449a-8cba-4d08b48d5247",
   "metadata": {},
   "outputs": [],
   "source": [
    "dados = [0,1,2,6,6,9,10,10,13,16,17,18,20,20,21,21,25]"
   ]
  },
  {
   "cell_type": "code",
   "execution_count": null,
   "id": "d3994202-341c-49aa-96ae-41a57917d734",
   "metadata": {},
   "outputs": [],
   "source": []
  }
 ],
 "metadata": {
  "kernelspec": {
   "display_name": "Python 3 (ipykernel)",
   "language": "python",
   "name": "python3"
  },
  "language_info": {
   "codemirror_mode": {
    "name": "ipython",
    "version": 3
   },
   "file_extension": ".py",
   "mimetype": "text/x-python",
   "name": "python",
   "nbconvert_exporter": "python",
   "pygments_lexer": "ipython3",
   "version": "3.12.4"
  }
 },
 "nbformat": 4,
 "nbformat_minor": 5
}
