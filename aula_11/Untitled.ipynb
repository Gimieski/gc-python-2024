{
 "cells": [
  {
   "cell_type": "markdown",
   "id": "01cdb9f6-7969-413e-988e-e7c60ab9ac0b",
   "metadata": {},
   "source": [
    "Discretivar atributo numérico que possui os valores abaixo em 3 intervalos. User: Larguras iguais, Frequencias iguais e inspeçao visual"
   ]
  },
  {
   "cell_type": "code",
   "execution_count": 4,
   "id": "9e0a8896-2737-449a-8cba-4d08b48d5247",
   "metadata": {},
   "outputs": [],
   "source": [
    "arr = [0,1,2,6,6,9,10,10,13,16,17,18,20,20,21,21,25]"
   ]
  },
  {
   "cell_type": "code",
   "execution_count": 7,
   "id": "d3994202-341c-49aa-96ae-41a57917d734",
   "metadata": {},
   "outputs": [
    {
     "name": "stdout",
     "output_type": "stream",
     "text": [
      "Intervalo 1: (0.0, 8.33)\n",
      "Intervalo 2: (8.33, 16.67)\n",
      "Intervalo 3: (16.67, 25.0)\n"
     ]
    }
   ],
   "source": [
    "interval_width = (max(arr) - min(arr)) / 3\n",
    "\n",
    "intervals = []\n",
    "for i in range(3):\n",
    "    start = min(arr) + i * interval_width\n",
    "    end = min(arr) + (i + 1) * interval_width\n",
    "    intervals.append((round(start, 2), round(end, 2)))\n",
    "\n",
    "for i, interval in enumerate(intervals, 1):\n",
    "    print(f\"Intervalo {i}: {interval}\")"
   ]
  },
  {
   "cell_type": "code",
   "execution_count": null,
   "id": "9f2677bd-e47b-4851-91b6-b37d22b0fea6",
   "metadata": {},
   "outputs": [],
   "source": []
  }
 ],
 "metadata": {
  "kernelspec": {
   "display_name": "Python 3 (ipykernel)",
   "language": "python",
   "name": "python3"
  },
  "language_info": {
   "codemirror_mode": {
    "name": "ipython",
    "version": 3
   },
   "file_extension": ".py",
   "mimetype": "text/x-python",
   "name": "python",
   "nbconvert_exporter": "python",
   "pygments_lexer": "ipython3",
   "version": "3.12.4"
  }
 },
 "nbformat": 4,
 "nbformat_minor": 5
}
