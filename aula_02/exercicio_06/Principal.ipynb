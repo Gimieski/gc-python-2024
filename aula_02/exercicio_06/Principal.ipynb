{
 "cells": [
  {
   "cell_type": "code",
   "execution_count": 2,
   "id": "f403ba53-c087-4318-af90-66b90f3ba2e4",
   "metadata": {},
   "outputs": [
    {
     "name": "stdout",
     "output_type": "stream",
     "text": [
      "========Amigos========\n"
     ]
    },
    {
     "name": "stdin",
     "output_type": "stream",
     "text": [
      "Digite o nome de um amigo Victor \n",
      "Digite o nome de um amigo Joao\n",
      "Digite o nome de um amigo Lucas\n"
     ]
    },
    {
     "name": "stdout",
     "output_type": "stream",
     "text": [
      "Victor  é meu bff <3\n",
      "Joao é meu bff <3\n",
      "Lucas é meu bff <3\n"
     ]
    }
   ],
   "source": [
    "print(\"========Amigos========\")\n",
    "amigos = []\n",
    "while (len(amigos) < 3):\n",
    "    amigos.append(input(\"Digite o nome de um amigo\"))\n",
    "\n",
    "for amigo in amigos:\n",
    "    print(f\"{amigo} é meu bff <3\")"
   ]
  }
 ],
 "metadata": {
  "kernelspec": {
   "display_name": "Python 3 (ipykernel)",
   "language": "python",
   "name": "python3"
  },
  "language_info": {
   "codemirror_mode": {
    "name": "ipython",
    "version": 3
   },
   "file_extension": ".py",
   "mimetype": "text/x-python",
   "name": "python",
   "nbconvert_exporter": "python",
   "pygments_lexer": "ipython3",
   "version": "3.12.4"
  }
 },
 "nbformat": 4,
 "nbformat_minor": 5
}
