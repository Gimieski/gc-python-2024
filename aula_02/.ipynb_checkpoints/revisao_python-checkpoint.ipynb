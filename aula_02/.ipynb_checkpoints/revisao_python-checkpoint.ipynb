{
 "cells": [
  {
   "cell_type": "markdown",
   "id": "75190762-c4c8-4ede-ac9a-efa1292dc53d",
   "metadata": {},
   "source": [
    "# Revisao python"
   ]
  },
  {
   "cell_type": "code",
   "execution_count": 2,
   "id": "0a5b88f1-4be4-41e4-b3bd-fb629a24146b",
   "metadata": {},
   "outputs": [
    {
     "name": "stdout",
     "output_type": "stream",
     "text": [
      "hello word\n"
     ]
    }
   ],
   "source": [
    "print('hello word')"
   ]
  },
  {
   "cell_type": "code",
   "execution_count": 3,
   "id": "c183400b-9540-464b-9d24-f895082103dc",
   "metadata": {},
   "outputs": [],
   "source": [
    "nome = \"Gabriel\""
   ]
  },
  {
   "cell_type": "code",
   "execution_count": null,
   "id": "64400821-0c02-42d6-8dd5-10d75eb83701",
   "metadata": {},
   "outputs": [],
   "source": [
    "boolean = True or False\n",
    "inteiro = 12\n",
    "flutuante=12.90\n",
    "string=\"dasdasd\"\n",
    "\n",
    "if inteiro < 10\n",
    "    print(\"menor que 10\")\n",
    "else\n",
    "    print(\"maior que 10\")\n",
    "\n",
    "lista = [1,2,3,5,6]\n",
    "\n",
    "for index in range(len(lista)):\n",
    "    print(lista[index])\n",
    "\n",
    "lista2 = [\n",
    "    {nome:'Gabriel', idade:'18'},\n",
    "    {nome: 'Rene', idade: '18'}\n",
    "]\n"
   ]
  }
 ],
 "metadata": {
  "kernelspec": {
   "display_name": "Python 3 (ipykernel)",
   "language": "python",
   "name": "python3"
  },
  "language_info": {
   "codemirror_mode": {
    "name": "ipython",
    "version": 3
   },
   "file_extension": ".py",
   "mimetype": "text/x-python",
   "name": "python",
   "nbconvert_exporter": "python",
   "pygments_lexer": "ipython3",
   "version": "3.12.4"
  }
 },
 "nbformat": 4,
 "nbformat_minor": 5
}
