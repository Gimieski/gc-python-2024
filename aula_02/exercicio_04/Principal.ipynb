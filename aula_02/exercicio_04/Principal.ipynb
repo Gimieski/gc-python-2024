{
 "cells": [
  {
   "cell_type": "code",
   "execution_count": 9,
   "id": "ddf6cec3-dd0a-4e15-bc35-b1bc6eeb8deb",
   "metadata": {},
   "outputs": [
    {
     "name": "stdout",
     "output_type": "stream",
     "text": [
      "=========Digite sua idade=========\n"
     ]
    },
    {
     "name": "stdin",
     "output_type": "stream",
     "text": [
      "Qual a sua idade? 18\n"
     ]
    },
    {
     "name": "stdout",
     "output_type": "stream",
     "text": [
      "Feliz aniversário!\n"
     ]
    }
   ],
   "source": [
    "print(\"=========Digite sua idade=========\")\n",
    "\n",
    "try:\n",
    "    idade=int(input(\"Qual a sua idade?\"))\n",
    "\n",
    "    if idade < 18:\n",
    "        print(\"Menor de idade\")\n",
    "    elif idade == 18:\n",
    "        print(\"Feliz aniversário!\")\n",
    "    else:\n",
    "        print(\"Maior de idade\")\n",
    "        \n",
    "except ValueError:\n",
    "    print(\"Valores inválidos\")\n",
    "    "
   ]
  }
 ],
 "metadata": {
  "kernelspec": {
   "display_name": "Python 3 (ipykernel)",
   "language": "python",
   "name": "python3"
  },
  "language_info": {
   "codemirror_mode": {
    "name": "ipython",
    "version": 3
   },
   "file_extension": ".py",
   "mimetype": "text/x-python",
   "name": "python",
   "nbconvert_exporter": "python",
   "pygments_lexer": "ipython3",
   "version": "3.12.4"
  }
 },
 "nbformat": 4,
 "nbformat_minor": 5
}
