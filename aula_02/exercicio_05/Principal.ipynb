{
 "cells": [
  {
   "cell_type": "code",
   "execution_count": 1,
   "id": "c125d176-ec9e-4367-9a69-3d69f4452269",
   "metadata": {},
   "outputs": [
    {
     "name": "stdout",
     "output_type": "stream",
     "text": [
      "Contagem:  1\n",
      "Contagem:  2\n",
      "Contagem:  3\n",
      "Contagem:  4\n",
      "Contagem:  5\n"
     ]
    }
   ],
   "source": [
    "print(\"=======Contagem de 1 a 5=======\")\n",
    "for i in range(1, 6):\n",
    "    print(\"Contagem: \", i)"
   ]
  }
 ],
 "metadata": {
  "kernelspec": {
   "display_name": "Python 3 (ipykernel)",
   "language": "python",
   "name": "python3"
  },
  "language_info": {
   "codemirror_mode": {
    "name": "ipython",
    "version": 3
   },
   "file_extension": ".py",
   "mimetype": "text/x-python",
   "name": "python",
   "nbconvert_exporter": "python",
   "pygments_lexer": "ipython3",
   "version": "3.12.4"
  }
 },
 "nbformat": 4,
 "nbformat_minor": 5
}
