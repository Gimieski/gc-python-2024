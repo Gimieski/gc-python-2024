{
 "cells": [
  {
   "cell_type": "code",
   "execution_count": 7,
   "id": "f9f214d5-9685-4382-9be5-4711c832ffcb",
   "metadata": {},
   "outputs": [],
   "source": [
    "import pandas as pd\n",
    "livros = pd.read_csv(\"../livros.csv\")\n",
    "emprestimos = pd.read_csv(\"../emprestimos.csv\")\n",
    "\n",
    "quantidade_nao_devolvidas=emprestimos[\"data_devolucao\"].isna().sum()\n",
    "\n",
    "quantidade_total_nulas = emprestimos.isna().sum()"
   ]
  },
  {
   "cell_type": "code",
   "execution_count": null,
   "id": "1280ccc4-518e-44e5-a370-2ae107640368",
   "metadata": {},
   "outputs": [],
   "source": []
  }
 ],
 "metadata": {
  "kernelspec": {
   "display_name": "Python 3 (ipykernel)",
   "language": "python",
   "name": "python3"
  },
  "language_info": {
   "codemirror_mode": {
    "name": "ipython",
    "version": 3
   },
   "file_extension": ".py",
   "mimetype": "text/x-python",
   "name": "python",
   "nbconvert_exporter": "python",
   "pygments_lexer": "ipython3",
   "version": "3.12.4"
  }
 },
 "nbformat": 4,
 "nbformat_minor": 5
}
