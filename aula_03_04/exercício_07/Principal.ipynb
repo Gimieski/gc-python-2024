{
 "cells": [
  {
   "cell_type": "code",
   "execution_count": null,
   "id": "51441456-6fb0-4b63-b611-c1fc91504400",
   "metadata": {},
   "outputs": [],
   "source": [
    "1. Crie uma lista com 5 nomes de filmes que você goste;\n",
    "2. Crie uma 2a lista com o ano de lançamento desses 5 filmes (pode pesquisar, eu deixo);\n",
    "3. Tranforme isso em um dataframe;\n",
    "4. Adicione uma nova coluna com a nota, de 1 a 10, de quanto você gosta deles;\n",
    "5. Crie mais 2 dataframes, de séries e anime/desenhos que você gosta, com as mesmas\n",
    "colunas acima.\n",
    "6. Salve os 3 dataframes em 'csv', 'json' e 'html' e nos envie os arquivos*.\n",
    "7. Concatene horizontalmente os 3 dataframes, ficando 9 colunas no final. (Fazer em dupla)"
   ]
  },
  {
   "cell_type": "code",
   "execution_count": 1,
   "id": "67c32e76-b149-4a30-afa0-88b28bb7f814",
   "metadata": {},
   "outputs": [
    {
     "name": "stdout",
     "output_type": "stream",
     "text": [
      "Requirement already satisfied: pandas in /opt/miniconda3/lib/python3.12/site-packages (2.2.3)\n",
      "Requirement already satisfied: numpy>=1.26.0 in /opt/miniconda3/lib/python3.12/site-packages (from pandas) (2.1.1)\n",
      "Requirement already satisfied: python-dateutil>=2.8.2 in /opt/miniconda3/lib/python3.12/site-packages (from pandas) (2.9.0.post0)\n",
      "Requirement already satisfied: pytz>=2020.1 in /opt/miniconda3/lib/python3.12/site-packages (from pandas) (2024.2)\n",
      "Requirement already satisfied: tzdata>=2022.7 in /opt/miniconda3/lib/python3.12/site-packages (from pandas) (2024.2)\n",
      "Requirement already satisfied: six>=1.5 in /opt/miniconda3/lib/python3.12/site-packages (from python-dateutil>=2.8.2->pandas) (1.16.0)\n"
     ]
    }
   ],
   "source": [
    "!pip install pandas"
   ]
  },
  {
   "cell_type": "code",
   "execution_count": 15,
   "id": "9d40f961-b5bd-45ce-9384-b787532d735c",
   "metadata": {},
   "outputs": [],
   "source": [
    "import pandas as pd\n",
    "\n",
    "filmes = ['Efeito borboleta', 'Crepusculo', 'Carros', 'Velozes e furiosos 4', 'Deadpool e Wolverine']\n",
    "filmes_data = [2004, 2008,2006,2009,2024]\n",
    "\n",
    "df = pd.DataFrame({'filmes':filmes, 'ano':filmes_data})\n",
    "df['nota'] = [10, 6, 10, 3, 8]\n",
    "\n",
    "df.to_csv('filmes_preferidas.csv')\n",
    "df.to_json('filmes_preferidas.json')\n",
    "df.to_html('filmes_preferidas.html')"
   ]
  },
  {
   "cell_type": "code",
   "execution_count": 14,
   "id": "b6c28c72-d1ef-45da-a683-10add5de0374",
   "metadata": {},
   "outputs": [],
   "source": [
    "series = ['The Vampire diaers', 'You', 'Dexter', 'Stranger things', 'Brooklyn nine-nine'] \n",
    "series_data = [2009, 2018, 2006, 2016, 2013]\n",
    "\n",
    "df2 = pd.DataFrame({'series': series, 'ano': series_data })\n",
    "df2['nota'] = [10, 10, 10, 6, 8]\n",
    "\n",
    "df2.to_csv('series_preferidas.csv')\n",
    "df2.to_json('series_preferidas.json')\n",
    "df2.to_html('series_preferidas.html')"
   ]
  },
  {
   "cell_type": "code",
   "execution_count": 13,
   "id": "62f0bc8e-2d40-4c57-b7d0-34cae0539614",
   "metadata": {},
   "outputs": [],
   "source": [
    "animes = ['Demon slayer', 'Overlord', 'Jujutsu kaisen', 'Steins gate', 'Castlevania'] \n",
    "animes_data = [2019, 2010, 2019, 2008, 2017]\n",
    "\n",
    "df3 = pd.DataFrame({'animes': animes, 'ano': animes_data })\n",
    "df3['nota'] = [10, 10, 7, 9, 8]\n",
    "\n",
    "df3.to_csv('animes_preferidas.csv')\n",
    "df3.to_json('animes_preferidas.json')\n",
    "df3.to_html('animes_preferidas.html')"
   ]
  },
  {
   "cell_type": "code",
   "execution_count": null,
   "id": "63c1b766-cdbc-4b8c-a897-cfdb93b6ee2b",
   "metadata": {},
   "outputs": [],
   "source": [
    "df_concatenado = pd.concat([df1, df2, df3], axis)"
   ]
  }
 ],
 "metadata": {
  "kernelspec": {
   "display_name": "Python 3 (ipykernel)",
   "language": "python",
   "name": "python3"
  },
  "language_info": {
   "codemirror_mode": {
    "name": "ipython",
    "version": 3
   },
   "file_extension": ".py",
   "mimetype": "text/x-python",
   "name": "python",
   "nbconvert_exporter": "python",
   "pygments_lexer": "ipython3",
   "version": "3.12.4"
  }
 },
 "nbformat": 4,
 "nbformat_minor": 5
}
